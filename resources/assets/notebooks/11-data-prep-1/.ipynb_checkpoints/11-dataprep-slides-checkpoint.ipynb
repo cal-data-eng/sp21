{
 "cells": [
  {
   "cell_type": "markdown",
   "metadata": {
    "slideshow": {
     "slide_type": "notes"
    }
   },
   "source": [
    "*Note: This notebook is the slide-oriented version; a [fully literate (wordy) version](https://drive.google.com/file/d/1GU-JXlpCT85dqucPieoJxErsKRZ7xN7L/view?usp=sharing) of the notebook is also available. This notebook was designed to be viewed as slides via the [RISE](https://rise.readthedocs.io/en/stable/) notebook extension!*"
   ]
  },
  {
   "cell_type": "markdown",
   "metadata": {
    "slideshow": {
     "slide_type": "slide"
    }
   },
   "source": [
    "# Data Preparation I\n",
    "\n",
    "Data preparation is a *very* broad and central subject in Data Science.\n",
    "\n",
    "In today's first lecture we'll cover a few key topics:\n",
    "1. Data \"Unboxing\"\n",
    "2. Structural Data Transformations\n",
    "3. Type Induction/Coercion\n",
    "4. String Manipulation"
   ]
  },
  {
   "cell_type": "markdown",
   "metadata": {
    "slideshow": {
     "slide_type": "slide"
    }
   },
   "source": [
    "## 1. \"Unboxing\" Data\n",
    "Recall some basic tools:\n",
    "- `du -h`: show the disk size of a file in human-readable form\n",
    "- `head -c 1024`: show me the first 1024 bytes of a file\n",
    "- your eyes"
   ]
  },
  {
   "cell_type": "markdown",
   "metadata": {
    "slideshow": {
     "slide_type": "subslide"
    }
   },
   "source": [
    "### Assessing Structure\n",
    "1. Look out for header info, metadata, comments, etc.\n",
    "2. Most files you'll run across fall into one of these categories:\n",
    "  1. **Record per line**: newline-delimited rows of uniform symbol-delimited data.\n",
    "    - E.g. CSV and TSV files\n",
    "    - Also newline-delimited rows of uniform but ad-hoc structured text\n",
    "  2. **Dictionaries/Objects**: explicit key:value pairs, may be nested! Two common cases:\n",
    "    - Object-per-line: e.g. newline-delimited rows of JSON, XML, YAML, etc. (JSON in this format is sometimes called [json lines or jsonl](https://jsonlines.org/)).\n",
    "    - Complex object: the entire dataset is one fully-nested JSON, XML or YAML object\n",
    "  "
   ]
  },
  {
   "cell_type": "markdown",
   "metadata": {
    "slideshow": {
     "slide_type": "subslide"
    }
   },
   "source": [
    "  3. **Unions**: a mixture of rows from *k* distinct schemas. Two common cases:\n",
    "    - *Tagged Unions*: each row has an ID or name identifying its schema. Often the tag is in the first column.\n",
    "    - *Untagged Unions*: the schema for the row must be classified by its content\n",
    "  4. **Natural Language (prose)**: intended for human consumption.\n",
    "  5. **Everything else**: A long tail of file formats! If not readable as text, likely some commercial or open source tool will translate."
   ]
  },
  {
   "cell_type": "markdown",
   "metadata": {
    "slideshow": {
     "slide_type": "subslide"
    }
   },
   "source": [
    "### Text formats\n",
    "Be aware of:\n",
    "- EBCDIC vs. ASCII. \n",
    "- Multibyte character encodings 😟: Unicode, UTF-8 and more. You can search the web for resources on these issues.\n",
    "You can ignore for this class (and often---but not always!---in life)."
   ]
  },
  {
   "cell_type": "markdown",
   "metadata": {
    "slideshow": {
     "slide_type": "subslide"
    }
   },
   "source": [
    "### Examples\n",
    "Without further ado, let's unbox some data!"
   ]
  },
  {
   "cell_type": "code",
   "execution_count": 1,
   "metadata": {
    "slideshow": {
     "slide_type": "fragment"
    }
   },
   "outputs": [
    {
     "name": "stdout",
     "output_type": "stream",
     "text": [
      "  0B\tdata/Icon\r",
      "\r\n",
      "4.0K\tdata/README.md\r\n",
      "8.0K\tdata/flow_CalDataEng_Example.zip\r\n",
      "1.3M\tdata/jc1.txt\r\n",
      " 50M\tdata/jq2.txt\r\n",
      "4.0K\tdata/mm.txt\r\n",
      "600K\tdata/mmp.txt\r\n",
      "4.3M\tdata/mmr.txt\r\n",
      "1.1M\tdata/monthly_precip_full.csv\r\n",
      "628K\tdata/mpf.txt\r\n",
      "4.0K\tdata/simple_scrape.py\r\n"
     ]
    }
   ],
   "source": [
    "!du -h data/*"
   ]
  },
  {
   "cell_type": "code",
   "execution_count": 2,
   "metadata": {
    "slideshow": {
     "slide_type": "subslide"
    }
   },
   "outputs": [
    {
     "name": "stdout",
     "output_type": "stream",
     "text": [
      "﻿_input,_num,_widgetName,_source,_resultNumber,_pageUrl,game_number,bio1,bio2,bio3,contestant1_name,contestant1_score,contestant2_name,contestant2_score,contestant3_name,contestant3_score\r\n",
      ",1,Jeopardy_Winners,Jeopardy_Winners,1,http://www.j-archive.com/showgame.php?game_id=3350,Show #5883 - Wednesday March 24 2010,Derek Honoré an attorney from Inglewood California,Tatiana Walton a graphic designer from Cutler Bay Florida,Regina Robbins an arts teacher from New York New York (whose 1-day cash winnings total $38500),Regina,$19401,Tatiana,$7100,Derek,$11900\r\n",
      ",2,Jeopardy_Winners,Jeopardy_Winners,2,http://www.j-archive.com/showgame.php?game_id=4400,Show #6756 - Monday January 20 2014,Jon McGuire a software-development manager from Matthews North Carolina,Blake Perkins an environmental scientist from Baton Rouge Louisiana,Sarah McNitt a study abroad adviser originally from Ann Arbor Michigan (whose 4-day cash winnings total $69199),Sarah,$20199,Blake,$0,Jon,$8380\r\n",
      ",3,Jeopardy_Winners,Jeopardy_Winners,3,http://www.j-archive.com/showgame.php?game_id=3150,Show #5754 - Thursday September 24 2009,Christopher Nold an economics and film studies student from Louisville Kentucky,Rachel Landau a museum night security guard from Chicago Illinois,Joann Mariani a high school English teacher from Brooklyn New York (whose 1-day cash winnings total $19500),Joann,$99,Rachel,,Christopher,$23000\r\n",
      ",4,Jeopardy_Winners,Jeopardy_Winners,4,http://www.j-archive.com/showgame.php?game_id=900,Show #314 - Thursday November 21 1985,Jerry Frankel a musician and a composer originally from Buffalo New York,Bruce Fauman a university administrator and professor from Vancouver British Columbia,Steve Rogitz a letter carrier from Gardena California,Steve,$4500,Bruce,$4300,Jerry,$6100\r\n",
      ",5,Jeopardy_Winners,Jeopardy_Winners,5,http://www.j-archive.com/showgame.php?game_id=550,Show #4846 - Monday October 10 2005,Andrew Vogl from Yonkers New York,Madeline Suchard from Placentia California,Pranita Ramakrishnan from Centreville Virginia,Pranita,,Madeline,$20401,Andr"
     ]
    }
   ],
   "source": [
    "!head -c 2048 data/jc1.txt"
   ]
  },
  {
   "cell_type": "markdown",
   "metadata": {
    "slideshow": {
     "slide_type": "fragment"
    }
   },
   "source": [
    "What category of data is the file above? Any observations about the data?"
   ]
  },
  {
   "cell_type": "markdown",
   "metadata": {
    "slideshow": {
     "slide_type": "subslide"
    }
   },
   "source": [
    "Let's look at another:"
   ]
  },
  {
   "cell_type": "code",
   "execution_count": 3,
   "metadata": {
    "slideshow": {
     "slide_type": "fragment"
    }
   },
   "outputs": [
    {
     "name": "stdout",
     "output_type": "stream",
     "text": [
      "{\"category\":\"HISTORY\",\"air_date\":\"2004-12-31\",\"question\":\"'For the last 8 years of his life, Galileo was under house arrest for espousing this man's theory'\",\"value\":\"$200\",\"answer\":\"Copernicus\",\"round\":\"Jeopardy!\",\"show_number\":\"4680\"}\r\n",
      "{\"category\":\"ESPN's TOP 10 ALL-TIME ATHLETES\",\"air_date\":\"2004-12-31\",\"question\":\"'No. 2: 1912 Olympian; football star at Carlisle Indian School; 6 MLB seasons with the Reds, Giants & Braves'\",\"value\":\"$200\",\"answer\":\"Jim Thorpe\",\"round\":\"Jeopardy!\",\"show_number\":\"4680\"}\r\n",
      "{\"category\":\"EVERYBODY TALKS ABOUT IT...\",\"air_date\":\"2004-12-31\",\"question\":\"'The city of Yuma in this state has a record average of 4,055 hours of sunshine each year'\",\"value\":\"$200\",\"answer\":\"Arizona\",\"round\":\"Jeopardy!\",\"show_number\":\"4680\"}\r\n",
      "{\"category\":\"THE COMPANY LINE\",\"air_date\":\"2004-12-31\",\"question\":\"'In 1963, live on \\\"The Art Linkletter Show\\\", this company served its billionth burger'\",\"value\":\"$200\",\"answer\":\"McDonald\\\\'s\",\"round\":\"Jeopardy!\",\"show_number\":\"4680\"}\r\n",
      "{\"category\":\"EPITAPHS & TRIBUTE"
     ]
    }
   ],
   "source": [
    "!head -c 1024 data/jq2.txt"
   ]
  },
  {
   "cell_type": "markdown",
   "metadata": {
    "slideshow": {
     "slide_type": "fragment"
    }
   },
   "source": [
    "What do you see this time? Category? Interesting features of the data?\n",
    "\n",
    "Keep in mind: this is *data visualization*! "
   ]
  },
  {
   "cell_type": "markdown",
   "metadata": {
    "slideshow": {
     "slide_type": "subslide"
    }
   },
   "source": [
    "### Richer Visualizations and Low-Code Interaction in Trifacta\n",
    "- We *could* use pandas and matplotlib/seaborn/plotly/etc. I.e. we could write code.\n",
    "- Instead, try a purpose-built visual data preparation tool: [Trifacta](cloud.trifacta.com), also known as [Google Cloud Dataprep](https://cloud.google.com/dataprep). A visual environment for \"low-code\" dataprep that is the commercialization of joint research at Berkeley and Stanford in the [Wrangler](http://vis.stanford.edu/wrangler/) and [Potter's Wheel](http://control.cs.berkeley.edu/abc) projects.\n",
    "\n",
    "- Can interact with Trifacta in its Web UI, or via the `trifacta` Python library.\n",
    "- `wf = tf.wrangle` uploads data and returns a \"wrangle flow\" object from Trifacta. \n",
    "- The `wf.open()` method opens the Trifacta UI in a new browser tab."
   ]
  },
  {
   "cell_type": "code",
   "execution_count": 4,
   "metadata": {},
   "outputs": [],
   "source": [
    "import trifacta as tf\n",
    "import pandas as pd"
   ]
  },
  {
   "cell_type": "code",
   "execution_count": 5,
   "metadata": {
    "slideshow": {
     "slide_type": "subslide"
    }
   },
   "outputs": [
    {
     "data": {
      "application/vnd.jupyter.widget-view+json": {
       "model_id": "f0c92ca4bf3f480686a7c3f7e1fcf243",
       "version_major": 2,
       "version_minor": 0
      },
      "text/plain": [
       "HBox(children=(FloatProgress(value=0.0), HTML(value='')))"
      ]
     },
     "metadata": {},
     "output_type": "display_data"
    },
    {
     "name": "stdout",
     "output_type": "stream",
     "text": [
      "\n"
     ]
    }
   ],
   "source": [
    "jc1 = tf.wrangle('data/jq2.txt')"
   ]
  },
  {
   "cell_type": "code",
   "execution_count": 6,
   "metadata": {
    "slideshow": {
     "slide_type": "fragment"
    }
   },
   "outputs": [
    {
     "name": "stdout",
     "output_type": "stream",
     "text": [
      "Opening https://tfcso.cloud.trifacta.com/data/97476/490004?minimalView=true\n"
     ]
    },
    {
     "data": {
      "text/plain": [
       "'https://tfcso.cloud.trifacta.com/data/97476/490004?minimalView=true'"
      ]
     },
     "execution_count": 6,
     "metadata": {},
     "output_type": "execute_result"
    }
   ],
   "source": [
    "jc1.open()"
   ]
  },
  {
   "cell_type": "markdown",
   "metadata": {
    "slideshow": {
     "slide_type": "subslide"
    }
   },
   "source": [
    "What do you see in Trifacta that's additional to `head -c`?"
   ]
  },
  {
   "cell_type": "markdown",
   "metadata": {
    "slideshow": {
     "slide_type": "subslide"
    }
   },
   "source": [
    "### Let's Look at More Files!\n",
    "\n",
    "OK, moving on to another file. How would you describe this one?"
   ]
  },
  {
   "cell_type": "code",
   "execution_count": 7,
   "metadata": {
    "slideshow": {
     "slide_type": "subslide"
    }
   },
   "outputs": [],
   "source": [
    "import trifacta as tf\n",
    "import pandas as pd"
   ]
  },
  {
   "cell_type": "code",
   "execution_count": 8,
   "metadata": {
    "slideshow": {
     "slide_type": "fragment"
    }
   },
   "outputs": [
    {
     "name": "stdout",
     "output_type": "stream",
     "text": [
      "Year,OCT,NOV,DEC,JAN,FEB,MAR,APR,MAY,JUN,JUL,AUG,SEP\r\n",
      "2002,545.9200000000003,3115.08,3996.760000000001,1815.7399999999998,1204.1399999999994,1644.020000000001,795.9200000000001,540.24,112.61999999999999,79.52000000000002,22.200000000000003,171.70000000000016\r\n",
      "2003,55.41000000000004,1242.2300000000007,2976.9399999999973,797.7199999999999,836.0099999999996,1026.1100000000004,1571.270000000001,468.59000000000026,24.930000000000003,98.33000000000001,267.40000000000015,99.19999999999999\r\n",
      "2004,55.900000000000034,834.4000000000009,2311.719999999997,942.7500000000002,2019.2199999999987,399.51999999999964,339.17999999999995,251.6400000000001,72.37999999999998,55.569999999999986,116.74000000000007,97.48000000000002\r\n",
      "2006,347.2199999999998,908.4399999999991,2981.1600000000017,1793.970000000001,995.2699999999998,2031.1899999999987,1602.5499999999997,287.2099999999997,102.43999999999994,90.31000000000002,18.749999999999986,33.75999999999999\r\n",
      "2005,1449.23,619.7699999999999,1789.9299999999998,1777.230000000001,1055.4099999999996"
     ]
    }
   ],
   "source": [
    "!head -c 1024 data/mm.txt"
   ]
  },
  {
   "cell_type": "markdown",
   "metadata": {
    "slideshow": {
     "slide_type": "subslide"
    }
   },
   "source": [
    "How does that differ from the next file?"
   ]
  },
  {
   "cell_type": "code",
   "execution_count": 9,
   "metadata": {
    "slideshow": {
     "slide_type": "fragment"
    }
   },
   "outputs": [
    {
     "name": "stdout",
     "output_type": "stream",
     "text": [
      "Year,ID,Location,Station,OCT,NOV,DEC,JAN,FEB,MAR,APR,MAY,JUN,JUL,AUG,SEP\r\n",
      "2002,4BK,BROOKINGS,SOUTHERN OREGON COASTAL,12.86,29.06,34.64,34.64,18.2,12.1,13.24,7.3,7.36,0.04,0.06,2.9\r\n",
      "2002,ASHO3,ASHLAND,SOUTHERN OREGON COASTAL,0.76,7,6.82,2.64,2.58,2.58,5.84,3.76,0.16,0.56,0,0.4\r\n",
      "2002,COPO3,COPPER 4NE,SOUTHERN OREGON COASTAL,0.58,13.36,13.96,6.84,3.98,3.6,0,0,0,0,0,0.54\r\n",
      "2002,CVJO3,CAVE JUNCTION,SOUTHERN OREGON COASTAL,4.92,27.2,29.62,19.52,12.92,9.26,3.88,1.78,0,0,0,0.66\r\n",
      "2002,GOLO3,GOLD BEACH,SOUTHERN OREGON COASTAL,9.26,23.44,33.18,29.16,17.78,13.24,9.46,3,4.18,0.04,0,1.24\r\n",
      "2002,GPSO3,GRANTS PASS KAJO,SOUTHERN OREGON COASTAL,0.78,12.74,13.88,8.62,5.78,2.72,1.74,1.24,0.04,0,0,0.1\r\n",
      "2002,GSPO3,GREEN SPRINGS PP,SOUTHERN OREGON COASTAL,0.72,9.58,11.8,5.04,2.94,3.48,4.82,2.3,0.22,0.02,0,0.4\r\n",
      "2002,LEMO3,LEMOLO LAKE,SOUTHERN OREGON COASTAL,10.26,20.6,25.44,22.96,9.98,12.64,10.98,2.28,4.44,0.8,0.4,4.26\r\n",
      "2002,MFR,MEDFORD,SOUTHERN OREGON COASTAL,0.38,8.32,8.68,3.18,3.3,2.66,2.98,1.06,0.06,0.16,0,1.08\r\n",
      "2002,OTH,NORTH BEND,SOUTHERN"
     ]
    }
   ],
   "source": [
    "!head -c 1024 data/mmp.txt"
   ]
  },
  {
   "cell_type": "markdown",
   "metadata": {
    "slideshow": {
     "slide_type": "subslide"
    }
   },
   "source": [
    "And how about this one?"
   ]
  },
  {
   "cell_type": "code",
   "execution_count": 10,
   "metadata": {
    "slideshow": {
     "slide_type": "fragment"
    }
   },
   "outputs": [
    {
     "name": "stdout",
     "output_type": "stream",
     "text": [
      "Year,ID,Location,Station,Month,Inches of Precipitation\r\n",
      "2002,4BK,BROOKINGS,SOUTHERN OREGON COASTAL,OCT,6.43\r\n",
      "2002,4BK,BROOKINGS,SOUTHERN OREGON COASTAL,NOV,14.53\r\n",
      "2002,4BK,BROOKINGS,SOUTHERN OREGON COASTAL,DEC,17.32\r\n",
      "2002,4BK,BROOKINGS,SOUTHERN OREGON COASTAL,JAN,17.32\r\n",
      "2002,4BK,BROOKINGS,SOUTHERN OREGON COASTAL,FEB,9.1\r\n",
      "2002,4BK,BROOKINGS,SOUTHERN OREGON COASTAL,MAR,6.05\r\n",
      "2002,4BK,BROOKINGS,SOUTHERN OREGON COASTAL,APR,6.62\r\n",
      "2002,4BK,BROOKINGS,SOUTHERN OREGON COASTAL,MAY,3.65\r\n",
      "2002,4BK,BROOKINGS,SOUTHERN OREGON COASTAL,JUN,3.68\r\n",
      "2002,4BK,BROOKINGS,SOUTHERN OREGON COASTAL,JUL,0.02\r\n",
      "2002,4BK,BROOKINGS,SOUTHERN OREGON COASTAL,AUG,0.03\r\n",
      "2002,4BK,BROOKINGS,SOUTHERN OREGON COASTAL,SEP,1.45\r\n",
      "2002,ASHO3,ASHLAND,SOUTHERN OREGON COASTAL,OCT,0.38\r\n",
      "2002,ASHO3,ASHLAND,SOUTHERN OREGON COASTAL,NOV,3.5\r\n",
      "2002,ASHO3,ASHLAND,SOUTHERN OREGON COASTAL,DEC,3.41\r\n",
      "2002,ASHO3,ASHLAND,SOUTHERN OREGON COASTAL,JAN,1.32\r\n",
      "2002,ASHO3,ASHLAND,SOUTHERN OREGON COASTAL,FEB,1.29\r\n",
      "2002,ASHO3,ASHLAND,SOUTHERN OREGON COASTAL,MAR,1.29\r\n",
      "2002,ASHO3,ASHLAND,SOUTHERN OREG"
     ]
    }
   ],
   "source": [
    "!head -c 1024 data/mmr.txt"
   ]
  },
  {
   "cell_type": "markdown",
   "metadata": {
    "slideshow": {
     "slide_type": "slide"
    }
   },
   "source": [
    "## 2. Structural Transformation: From Relations to Matrices and Back\n",
    "- Matrix $\\rightarrow$ Relational works.\n",
    "- Relational $\\rightarrow$ Matrix sometimes works!\n",
    "- But how?\n",
    "\n",
    "To start, let's take our matrix in `mm.txt`, and load it into Trifacta."
   ]
  },
  {
   "cell_type": "code",
   "execution_count": 11,
   "metadata": {
    "slideshow": {
     "slide_type": "fragment"
    }
   },
   "outputs": [
    {
     "data": {
      "application/vnd.jupyter.widget-view+json": {
       "model_id": "95a78a1395064fe1927997c43679edbb",
       "version_major": 2,
       "version_minor": 0
      },
      "text/plain": [
       "HBox(children=(FloatProgress(value=0.0), HTML(value='')))"
      ]
     },
     "metadata": {},
     "output_type": "display_data"
    },
    {
     "name": "stdout",
     "output_type": "stream",
     "text": [
      "\n"
     ]
    }
   ],
   "source": [
    "mm = tf.wrangle('data/mm.txt')"
   ]
  },
  {
   "cell_type": "markdown",
   "metadata": {
    "slideshow": {
     "slide_type": "subslide"
    }
   },
   "source": [
    "- Matrix $\\rightarrow$ Relation: UNPIVOT <img src=\"files/unpivot.png\">"
   ]
  },
  {
   "cell_type": "code",
   "execution_count": 12,
   "metadata": {
    "slideshow": {
     "slide_type": "fragment"
    }
   },
   "outputs": [
    {
     "name": "stdout",
     "output_type": "stream",
     "text": [
      "Opening https://tfcso.cloud.trifacta.com/data/97477/490006?minimalView=true\n"
     ]
    },
    {
     "data": {
      "text/plain": [
       "'https://tfcso.cloud.trifacta.com/data/97477/490006?minimalView=true'"
      ]
     },
     "execution_count": 12,
     "metadata": {},
     "output_type": "execute_result"
    }
   ],
   "source": [
    "mm.open()"
   ]
  },
  {
   "cell_type": "markdown",
   "metadata": {
    "slideshow": {
     "slide_type": "subslide"
    }
   },
   "source": [
    "- Relation $\\rightarrow$ Matrix: PIVOT <img src=\"files/pivot.png\">\n",
    "- PIVOT(UNPIVOT) = ??"
   ]
  },
  {
   "cell_type": "code",
   "execution_count": 13,
   "metadata": {
    "slideshow": {
     "slide_type": "fragment"
    }
   },
   "outputs": [
    {
     "name": "stdout",
     "output_type": "stream",
     "text": [
      "Opening https://tfcso.cloud.trifacta.com/data/97477/490006?minimalView=true\n"
     ]
    },
    {
     "data": {
      "text/plain": [
       "'https://tfcso.cloud.trifacta.com/data/97477/490006?minimalView=true'"
      ]
     },
     "execution_count": 13,
     "metadata": {},
     "output_type": "execute_result"
    }
   ],
   "source": [
    "mm.open()"
   ]
  },
  {
   "cell_type": "markdown",
   "metadata": {
    "slideshow": {
     "slide_type": "subslide"
    }
   },
   "source": [
    "### Extra Columns\n",
    "Let's go back to `mmp.txt`. \n",
    "- Matrix or relation? \n",
    "- Try doing some PIVOT/UNPIVOT work in Trifacta on this."
   ]
  },
  {
   "cell_type": "code",
   "execution_count": 14,
   "metadata": {
    "slideshow": {
     "slide_type": "fragment"
    }
   },
   "outputs": [
    {
     "data": {
      "application/vnd.jupyter.widget-view+json": {
       "model_id": "6b1ba0b079684087814cf1d475279701",
       "version_major": 2,
       "version_minor": 0
      },
      "text/plain": [
       "HBox(children=(FloatProgress(value=0.0), HTML(value='')))"
      ]
     },
     "metadata": {},
     "output_type": "display_data"
    },
    {
     "name": "stdout",
     "output_type": "stream",
     "text": [
      "\n"
     ]
    }
   ],
   "source": [
    "mmp = tf.wrangle('data/mmp.txt')"
   ]
  },
  {
   "cell_type": "code",
   "execution_count": 15,
   "metadata": {
    "slideshow": {
     "slide_type": "fragment"
    }
   },
   "outputs": [
    {
     "name": "stdout",
     "output_type": "stream",
     "text": [
      "Opening https://tfcso.cloud.trifacta.com/data/97478/490008?minimalView=true\n"
     ]
    },
    {
     "data": {
      "text/plain": [
       "'https://tfcso.cloud.trifacta.com/data/97478/490008?minimalView=true'"
      ]
     },
     "execution_count": 15,
     "metadata": {},
     "output_type": "execute_result"
    }
   ],
   "source": [
    "mmp.open()"
   ]
  },
  {
   "cell_type": "markdown",
   "metadata": {
    "slideshow": {
     "slide_type": "subslide"
    }
   },
   "source": [
    "### Duplicate Entries and Aggregation\n",
    "Now let's take relational version in the `mmr.txt` file, PIVOT into `year`x`month` form."
   ]
  },
  {
   "cell_type": "code",
   "execution_count": 16,
   "metadata": {
    "slideshow": {
     "slide_type": "fragment"
    }
   },
   "outputs": [
    {
     "data": {
      "application/vnd.jupyter.widget-view+json": {
       "model_id": "cefb9f3af64148a9b6fa80aa9197d2ac",
       "version_major": 2,
       "version_minor": 0
      },
      "text/plain": [
       "HBox(children=(FloatProgress(value=0.0), HTML(value='')))"
      ]
     },
     "metadata": {},
     "output_type": "display_data"
    },
    {
     "name": "stdout",
     "output_type": "stream",
     "text": [
      "\n"
     ]
    }
   ],
   "source": [
    "mmr = tf.wrangle('data/mmr.txt')"
   ]
  },
  {
   "cell_type": "markdown",
   "metadata": {
    "slideshow": {
     "slide_type": "fragment"
    }
   },
   "source": [
    "What do we need to do here that we didn't before? What are our choices?"
   ]
  },
  {
   "cell_type": "code",
   "execution_count": 17,
   "metadata": {
    "slideshow": {
     "slide_type": "fragment"
    }
   },
   "outputs": [
    {
     "name": "stdout",
     "output_type": "stream",
     "text": [
      "Opening https://tfcso.cloud.trifacta.com/data/97479/490010?minimalView=true\n"
     ]
    },
    {
     "data": {
      "text/plain": [
       "'https://tfcso.cloud.trifacta.com/data/97479/490010?minimalView=true'"
      ]
     },
     "execution_count": 17,
     "metadata": {},
     "output_type": "execute_result"
    }
   ],
   "source": [
    "mmr.open()"
   ]
  },
  {
   "cell_type": "markdown",
   "metadata": {
    "slideshow": {
     "slide_type": "subslide"
    }
   },
   "source": [
    "### Spreadsheets\n",
    "- You should try this in your favorite spreadsheet, you may see some differences.\n",
    "- Beware: there may be no UNPIVOT, or it may be hard to find/use"
   ]
  },
  {
   "cell_type": "markdown",
   "metadata": {
    "slideshow": {
     "slide_type": "subslide"
    }
   },
   "source": [
    "### PIVOT/UNPIVOT and the Relational Model??!\n",
    "- In SQL? How about in Relational Algebra?\n",
    "- Consider how we get \"output\" column names: $\\pi_{c1, c2, c3}(T)$. What's true about the subscripts of $\\pi$?\n",
    "- By contrast, where do output column names come from in PIVOT?\n",
    "- UNPIVOT: quantifier over column names (variables). This is *second order logic*. Relational langauges are based in first order logic (quantifiers over data).\n",
    "- So *no* PIVOT/UNPIVOT in \"pure\" SQL\n",
    "- BUT: most DBMSs extend SQL to do it. E.g. in Postgres the extension is called [crosstab](https://www.postgresql.org/docs/current/tablefunc.html)."
   ]
  },
  {
   "cell_type": "markdown",
   "metadata": {
    "slideshow": {
     "slide_type": "subslide"
    }
   },
   "source": [
    "### What about performance and scale\n",
    "- Have you ever seen a table with 10 million rows? \n",
    "- Have you ever seen a table with 10 million columns? \n",
    "\n",
    "- Performance\n",
    "- Usability/Queryability\n",
    "- Statistics: the [curse of dimensionality](https://en.wikipedia.org/wiki/Curse_of_dimensionality) (and the blessing?!)"
   ]
  },
  {
   "cell_type": "markdown",
   "metadata": {
    "slideshow": {
     "slide_type": "slide"
    }
   },
   "source": [
    "## 3. Type Induction and Coercion\n",
    "To begin let's review \"statistical\" data types. This is a slight refinement from the terms in DS100:\n",
    "- *nominal* / *categorical*: types that have no inherent ordering, used as names for categories\n",
    "- *ordinals*: types that are used to encode order. Typically the integers $1, 2, \\ldots$\n",
    "- *cardinals*: types that are used to express cardinality (\"how many\"). Typically the integers $0,1,\\ldots$. Cardinals are common as the output of statistics (frequencies).\n",
    "- *numerical* / *measures*: types that capture a numerical value or measurement. Typically a real (floating point) number."
   ]
  },
  {
   "cell_type": "markdown",
   "metadata": {
    "slideshow": {
     "slide_type": "subslide"
    }
   },
   "source": [
    "### Data types in the wild\n",
    "- Some systems (DBMSs) enforce/export types\n",
    "- Very, very common to work with data that has little or no metadata. Must interpret the data somehow! Type \"induction\"."
   ]
  },
  {
   "cell_type": "markdown",
   "metadata": {
    "slideshow": {
     "slide_type": "subslide"
    }
   },
   "source": [
    "### Techniques for Type Induction\n",
    "- Given: a column $c$ of potentially \"dirty\" data values\n",
    "- A set of types H. \n",
    "- You need to write an algorithm to choose a type. How does it choose?\n",
    "\n",
    "- \"Hard\" Rules: E.g. Occam's razor. \n",
    "  - Try types from most- to least-specific. (e.g. boolean, int, float, string)\n",
    "  - Choose the first one that matches *all* the values.\n",
    "- Minimum Description Length (MDL): See below\n",
    "- Classification (i.e. Supervised Learning): You know how this goes."
   ]
  },
  {
   "cell_type": "markdown",
   "metadata": {
    "slideshow": {
     "slide_type": "subslide"
    }
   },
   "source": [
    "#### MDL\n",
    "- Like Occam's razor, but account for the \"weight\" or \"penalty\" of encoding exceptions. \n",
    "- Say $len(v)$ is the bit-length for encoding of a value $v$ \"explicitly\". \n",
    "- Given a type $T$ with $|T|$ distinct values, the bit-length of encoding a value in that type is $log|T|$.\n",
    "- Let's say that indicator variable $I_T(v) = 1$ if $v \\in T$, and $0$ otherwise. \n",
    "\n",
    "$$\\mbox{MDL} = \\min_{T \\in H} \\sum_{v \\in c}(I_T(v)log(|T|) + (1-I_T(v))len(v))$$"
   ]
  },
  {
   "cell_type": "markdown",
   "metadata": {
    "slideshow": {
     "slide_type": "subslide"
    }
   },
   "source": [
    "- Example: $\\{\\mbox{'Joe'}, 2, 12, 4750\\}$. Assume the default type is \"string\", which costs us 8 bits per character. \n",
    "- 16-bit integers: "
   ]
  },
  {
   "cell_type": "code",
   "execution_count": 18,
   "metadata": {
    "slideshow": {
     "slide_type": "fragment"
    }
   },
   "outputs": [
    {
     "data": {
      "text/plain": [
       "104"
      ]
     },
     "execution_count": 18,
     "metadata": {},
     "output_type": "execute_result"
    }
   ],
   "source": [
    "c = ['Joe', 'Aditya', '12', '4750']\n",
    "len('JoeAditya')*8 + 2*16"
   ]
  },
  {
   "cell_type": "markdown",
   "metadata": {
    "slideshow": {
     "slide_type": "fragment"
    }
   },
   "source": [
    "- All strings: "
   ]
  },
  {
   "cell_type": "code",
   "execution_count": 19,
   "metadata": {
    "slideshow": {
     "slide_type": "fragment"
    }
   },
   "outputs": [
    {
     "data": {
      "text/plain": [
       "120"
      ]
     },
     "execution_count": 19,
     "metadata": {},
     "output_type": "execute_result"
    }
   ],
   "source": [
    "c = ['Joe', 'Aditya', '12', '4750']\n",
    "sum([len(x)*8 for x in c])"
   ]
  },
  {
   "cell_type": "markdown",
   "metadata": {
    "slideshow": {
     "slide_type": "subslide"
    }
   },
   "source": [
    "#### In practice\n",
    "- Many systems *need* hard rules\n",
    "- Others lean MDLish"
   ]
  },
  {
   "cell_type": "markdown",
   "metadata": {
    "slideshow": {
     "slide_type": "subslide"
    }
   },
   "source": [
    "### Type Coercion/Casting\n",
    "- Can be done. You may lose data fidelity (e.g. set to NULL)\n",
    "- Can be useful. E.g. for *statistically* correct treatment, convert IDs to string rather than integer.\n",
    "- Also useful for smoothing (e.g. quantization)"
   ]
  },
  {
   "cell_type": "markdown",
   "metadata": {
    "slideshow": {
     "slide_type": "slide"
    }
   },
   "source": [
    "## 4. String Manipulation\n",
    "We covered a lot in DS100 and SQL already.\n",
    "\n",
    "- Typical transforms include the following (names may vary across systems/DSLs):\n",
    "  - **Split** a string into separate rows/columns\n",
    "      - Often by position or delimiter\n",
    "      - Sometimes via parsing: e.g. counting nested parentheses (e.g. JSON/XML rowsplits)\n",
    "  - **CountMatches**: Create a new column with the count of matches of a pattern in a string column\n",
    "  - **Extract**: create a column of substrings derived from another column \n",
    "  - **Replace**: a (sub)string with a constant, a \"captured group\", or any string formula (e.g. lowercase, trim, etc)"
   ]
  },
  {
   "cell_type": "markdown",
   "metadata": {
    "slideshow": {
     "slide_type": "subslide"
    }
   },
   "source": [
    "- Facility with regular expressions goes a VERY long way.\n",
    "  - Most languages/tools support regex\n",
    "- All of the string manipulation can be done \n",
    "directly in SQL"
   ]
  },
  {
   "cell_type": "markdown",
   "metadata": {
    "slideshow": {
     "slide_type": "subslide"
    }
   },
   "source": [
    "## Cleaning The Real Data\n",
    "The previous few files were the results of wrangling a raw dataset. Let's look at that dataset now! It's a scrape of [rainfall data](https://www.cnrfc.noaa.gov/monthly_precip_2020.php) from the website of the National Oceanic and Atmospheric Administration (NOAA)."
   ]
  },
  {
   "cell_type": "code",
   "execution_count": 20,
   "metadata": {
    "slideshow": {
     "slide_type": "fragment"
    }
   },
   "outputs": [
    {
     "name": "stdout",
     "output_type": "stream",
     "text": [
      "2002, 'SOUTHERN OREGON COASTAL'\r\n",
      "2002, 'ID', 'Location', 'OCT', 'NOV', 'DEC', 'JAN', 'FEB', 'MAR', 'APR', 'MAY', 'JUN', 'JUL', 'AUG', 'SEP', 'WY Tota', 'Pct Avg to Date'\r\n",
      "2002, '4BK', 'BROOKINGS', '   6.43', '  14.53', '  17.32', '  17.32', '   9.10', '   6.05', '   6.62', '   3.65', '   3.68', '   0.02', '   0.03', '   1.45', ' 86.20', ' 117'\r\n",
      "2002, 'ASHO3', 'ASHLAND', '   0.38', '   3.50', '   3.41', '   1.32', '   1.29', '   1.29', '   2.92', '   1.88', '   0.08', '   0.28', '   0.00', '   0.20', ' 16.55', '  84'\r\n",
      "2002, 'COPO3', 'COPPER 4NE', '   0.29', '   6.68', '   6.98', '   3.42', '   1.99', '   1.80', 'M', 'M', 'M', 'M', 'M', '   0.27', 'M'\r\n",
      "2002, 'CVJO3', 'CAVE JUNCTION', '   2.46', '  13.60', '  14.81', '   9.76', '   6.46', '   4.63', '   1.94', '   0.89', '   0.00', '   0.00', '   0.00', '   0.33', ' 54.88', '  88'\r\n",
      "2002, 'GOLO3', 'GOLD BEACH', '   4.63', '  11.72', '  16.59', '  14.58', '   8.89', '   6.62', '   4.73', '   1.50', '   2.09', '   0.02', '   0.00', '   0.62', ' 71.99', '  91'\r\n",
      "2002, 'GPSO"
     ]
    }
   ],
   "source": [
    "!head -c 1024 data/monthly_precip_full.csv"
   ]
  },
  {
   "cell_type": "markdown",
   "metadata": {
    "slideshow": {
     "slide_type": "subslide"
    }
   },
   "source": [
    "Messy! You can play in bash or pandas if you like. I'll clean it up in Trifacta, illustrate benefits of tools:\n",
    "- live visualization \n",
    "- transform recommendations (software synthesis) \n",
    "- Use CS (HCI, AI, Database languages) to reduce the work in DS!"
   ]
  },
  {
   "cell_type": "code",
   "execution_count": 21,
   "metadata": {
    "slideshow": {
     "slide_type": "fragment"
    }
   },
   "outputs": [
    {
     "data": {
      "application/vnd.jupyter.widget-view+json": {
       "model_id": "7e0c007ffdf34902bec17287c4ad20c7",
       "version_major": 2,
       "version_minor": 0
      },
      "text/plain": [
       "HBox(children=(FloatProgress(value=0.0), HTML(value='')))"
      ]
     },
     "metadata": {},
     "output_type": "display_data"
    },
    {
     "name": "stdout",
     "output_type": "stream",
     "text": [
      "\n"
     ]
    }
   ],
   "source": [
    "mpf = tf.wrangle('data/monthly_precip_full.csv')"
   ]
  },
  {
   "cell_type": "code",
   "execution_count": null,
   "metadata": {
    "slideshow": {
     "slide_type": "fragment"
    }
   },
   "outputs": [],
   "source": [
    "mpf.open()"
   ]
  }
 ],
 "metadata": {
  "anaconda-cloud": {},
  "celltoolbar": "Slideshow",
  "kernelspec": {
   "display_name": "Python 3",
   "language": "python",
   "name": "python3"
  },
  "language_info": {
   "codemirror_mode": {
    "name": "ipython",
    "version": 3
   },
   "file_extension": ".py",
   "mimetype": "text/x-python",
   "name": "python",
   "nbconvert_exporter": "python",
   "pygments_lexer": "ipython3",
   "version": "3.8.5"
  }
 },
 "nbformat": 4,
 "nbformat_minor": 4
}
