{
 "cells": [
  {
   "cell_type": "markdown",
   "metadata": {
    "slideshow": {
     "slide_type": "notes"
    }
   },
   "source": [
    "*Note: this notebook is the continuation of the [previous notebook](), intended to be show in slideshow mode."
   ]
  },
  {
   "cell_type": "markdown",
   "metadata": {
    "slideshow": {
     "slide_type": "slide"
    }
   },
   "source": [
    "# Data Preparation 2\n",
    "\n",
    "In today's second lecture we'll cover:\n",
    "1. Numerical transformations\n",
    "2. Changes in granularity: aggregation and hierarchies"
   ]
  },
  {
   "cell_type": "code",
   "execution_count": null,
   "metadata": {
    "slideshow": {
     "slide_type": "subslide"
    }
   },
   "outputs": [],
   "source": [
    "## we'll use the Lahman baseball database in our initial examples today.\n",
    "## replace the database connection with a database of your own!\n",
    "%reload_ext sql\n",
    "%sql postgresql://jmh@127.0.0.1:5432/baseball\n",
    "        \n",
    "import trifacta as tf\n",
    "import pandas as pd"
   ]
  },
  {
   "cell_type": "markdown",
   "metadata": {
    "slideshow": {
     "slide_type": "slide"
    }
   },
   "source": [
    "# 1. Numerical Transformations\n",
    "- Super common requirement. \n",
    "- Calculations look fairly similar across languages\n",
    "  - We'll use SQL today\n",
    "- There are various types of calculations to consider:\n",
    "  - Scalar functions\n",
    "  - Aggregate functions\n",
    "  - Window functions: basic, inverse-distribution, hypothetical-set"
   ]
  },
  {
   "cell_type": "markdown",
   "metadata": {
    "slideshow": {
     "slide_type": "subslide"
    }
   },
   "source": [
    "## Scalar functions\n",
    "- Recall *scalar*: a tensor of dimension $0$\n",
    "  - i.e. a value in some *field*. \n",
    "<img src=\"files/tensors.png\">\n",
    "- Colloquially: a scalar value in any *atomic* data type\n",
    "- Scalar function: function on scalar values\n",
    "    - constants and attributes on individual cells\n",
    "- Relational algebra: subscripts of $\\pi, \\sigma$ and $\\Join$\n",
    "    - e.g. $\\pi_{a, f(b)}(R)$. \n",
    "- Dataflow (Spark or Pandas): applied by the `map` function."
   ]
  },
  {
   "cell_type": "markdown",
   "metadata": {
    "slideshow": {
     "slide_type": "subslide"
    }
   },
   "source": [
    "Identify all the functions in the next query. Are they scalar?"
   ]
  },
  {
   "cell_type": "code",
   "execution_count": null,
   "metadata": {
    "slideshow": {
     "slide_type": "fragment"
    }
   },
   "outputs": [],
   "source": [
    "%%sql\n",
    "WITH yearnum AS\n",
    "  (SELECT yearid, (yearid % 100) as year\n",
    "     FROM batting\n",
    "  )\n",
    "SELECT yearid, CONCAT('''', LPAD(year::text, 2, '0')) as year\n",
    "  FROM yearnum\n",
    " LIMIT 5;"
   ]
  },
  {
   "cell_type": "markdown",
   "metadata": {
    "slideshow": {
     "slide_type": "subslide"
    }
   },
   "source": [
    "#### Scalar functions are typically quick!\n",
    "- computed individually on each record in your data\n",
    "- system can run them in parallel on many different records\n",
    "- system can release memory after each call"
   ]
  },
  {
   "cell_type": "markdown",
   "metadata": {
    "slideshow": {
     "slide_type": "subslide"
    }
   },
   "source": [
    "#### Scalar functions in a DBMS\n",
    "- Executed \"on-the-fly\" as tuples are emitted\n",
    "- E.g. after accessing the data (`Seq Scan`, `Index Scan`)\n",
    "- Consider this query (a simple \"flattening\" of the above):"
   ]
  },
  {
   "cell_type": "code",
   "execution_count": null,
   "metadata": {
    "slideshow": {
     "slide_type": "fragment"
    }
   },
   "outputs": [],
   "source": [
    "%%sql\n",
    "EXPLAIN (VERBOSE true)\n",
    "SELECT yearid, CONCAT('''', LPAD((yearid % 100)::text, 2, '0')) as year\n",
    "  FROM batting;"
   ]
  },
  {
   "cell_type": "markdown",
   "metadata": {
    "slideshow": {
     "slide_type": "subslide"
    }
   },
   "source": [
    "#### Scalar functions mentioning multiple tables?\n",
    "- Happens right as those tables are joined up."
   ]
  },
  {
   "cell_type": "code",
   "execution_count": null,
   "metadata": {
    "slideshow": {
     "slide_type": "fragment"
    }
   },
   "outputs": [],
   "source": [
    "%%sql\n",
    "EXPLAIN (VERBOSE true)\n",
    "SELECT p.playerid, p.so - b.so\n",
    "  FROM pitching p INNER JOIN batting b ON p.playerid=b.playerid;"
   ]
  },
  {
   "cell_type": "markdown",
   "metadata": {
    "slideshow": {
     "slide_type": "subslide"
    }
   },
   "source": [
    "#### User-Defined Functions (UDFs)\n",
    "- Supported in some DBMSs, Spark, etc.\n",
    "- Define scalar functions of your own\n",
    "- Use them as you would use built-in functions.\n",
    "- Postgres supports many languages including Python"
   ]
  },
  {
   "cell_type": "code",
   "execution_count": null,
   "metadata": {
    "slideshow": {
     "slide_type": "skip"
    }
   },
   "outputs": [],
   "source": [
    "%%sql\n",
    "CREATE LANGUAGE plpythonu;"
   ]
  },
  {
   "cell_type": "code",
   "execution_count": null,
   "metadata": {
    "slideshow": {
     "slide_type": "subslide"
    }
   },
   "outputs": [],
   "source": [
    "%%sql\n",
    "CREATE OR REPLACE FUNCTION pyhash(s text)\n",
    "  RETURNS text\n",
    "AS $$\n",
    "  ## Python text goes here, can reference variable s\n",
    "  import hashlib\n",
    "  m = hashlib.sha256()\n",
    "  m.update(s)          # here's s!\n",
    "  return m.hexdigest() # return a text\n",
    "$$ LANGUAGE plpythonu;"
   ]
  },
  {
   "cell_type": "code",
   "execution_count": null,
   "metadata": {
    "slideshow": {
     "slide_type": "fragment"
    }
   },
   "outputs": [],
   "source": [
    "%%sql\n",
    "SELECT pyhash('Joe'), pyhash('Joel');"
   ]
  },
  {
   "cell_type": "markdown",
   "metadata": {
    "slideshow": {
     "slide_type": "subslide"
    }
   },
   "source": [
    "## Aggregate Functions\n",
    "Aggregate functions: input is a *set* or *vector* of values\n",
    "- Linear alg: $\\sum_i$ and $\\prod_i$\n",
    "- More general languages: a family of aggregate functions built in.\n",
    "    - Usually can define your own. \"UDA\"s, Reduce."
   ]
  },
  {
   "cell_type": "markdown",
   "metadata": {
    "slideshow": {
     "slide_type": "subslide"
    }
   },
   "source": [
    "#### Typical Built-in Aggs\n",
    "[Examples from PostgreSQL](https://www.postgresql.org/docs/current/functions-aggregate.html) include:\n",
    "   - Univariate functions on sets of numbers: \n",
    "     - `min`, `max`, `sum`, `avg`, `min`, `max`, `stddev`, `variance`, etc.\n",
    "   - Bivariate functions on sets of numbers:\n",
    "     - correlation (e.g. `corr`), covariance (e.g. `covar_samp`), regression (e.g. `regr_sxx`), etc\n",
    "   - Univariate functions on ordered lists of numbers:\n",
    "     - `percentile_cont, percentile_disc`\n",
    "\n",
    "Also univariate functions on ordered lists of strings\n",
    "   - `string_agg`, `array_agg`, `json_agg`\n",
    "\n",
    "Let's look at some annual homerun (`HR`) statistics."
   ]
  },
  {
   "cell_type": "code",
   "execution_count": null,
   "metadata": {
    "slideshow": {
     "slide_type": "subslide"
    }
   },
   "outputs": [],
   "source": [
    "%%sql\n",
    "SELECT namefirst, namelast, min(hr), max(hr), avg(hr), stddev(hr), sum(hr)\n",
    "  FROM batting b, master m\n",
    " WHERE b.playerid = m.playerid\n",
    " GROUP BY namelast, namefirst\n",
    " HAVING stddev(hr) IS NOT NULL\n",
    " ORDER BY max desc\n",
    " LIMIT 10;"
   ]
  },
  {
   "cell_type": "code",
   "execution_count": null,
   "metadata": {
    "slideshow": {
     "slide_type": "skip"
    }
   },
   "outputs": [],
   "source": [
    "%%sql \n",
    "SELECT namelast, json_agg(namefirst)\n",
    "  FROM master\n",
    " WHERE namelast IN ('Ruth', 'Aaron', 'DiMaggio', 'Rodriguez')\n",
    "GROUP BY namelast\n",
    "ORDER BY count(*) DESC;"
   ]
  },
  {
   "cell_type": "markdown",
   "metadata": {
    "slideshow": {
     "slide_type": "subslide"
    }
   },
   "source": [
    "## Window Functions\n",
    "- Recall: 1 value in output for each \"window\" of input values\n",
    "- Any aggregate function can be used in a window!\n",
    "- Order-based aggregates (thanks to ordered windows).\n",
    "\n",
    "Let's do 3-year windowed statistics on homeruns for Bonds and Ruth:"
   ]
  },
  {
   "cell_type": "code",
   "execution_count": null,
   "metadata": {
    "slideshow": {
     "slide_type": "fragment"
    }
   },
   "outputs": [],
   "source": [
    "%%sql\n",
    "SELECT namefirst, namelast, yearid, HR,\n",
    "       rank() OVER (ORDER BY HR DESC),\n",
    "       avg(HR)    OVER (PARTITION BY b.playerid ORDER BY yearid ROWS 3 PRECEDING) as avg_3yr,\n",
    "       lag(HR, 7) OVER (PARTITION BY b.playerid ORDER BY yearid) as previous,\n",
    "       lag(HR, 2) OVER (PARTITION BY b.playerid ORDER BY yearid) as lag2\n",
    "  FROM batting b, master m\n",
    " WHERE m.playerid = b.playerid\n",
    "   AND (namelast = 'Bonds' or namelast = 'Ruth')\n",
    " ORDER BY HR DESC\n",
    " LIMIT 10;"
   ]
  },
  {
   "cell_type": "markdown",
   "metadata": {
    "slideshow": {
     "slide_type": "subslide"
    }
   },
   "source": [
    "### Inverse Distribution Window Functions\n",
    "- The value at a particular \"position\" in a distribution\n",
    "- SQL: use `WITHIN GROUP (ORDER BY...)`.\n",
    "\n",
    "Example: \"Tukey numbers\" (min, quartiles, max, avg) for home runs plus \"p99\"\n",
    "   - since homeruns/year is heavy-tailed distribution"
   ]
  },
  {
   "cell_type": "code",
   "execution_count": null,
   "metadata": {
    "scrolled": true,
    "slideshow": {
     "slide_type": "fragment"
    }
   },
   "outputs": [],
   "source": [
    "%%sql\n",
    "SELECT MIN(HR),\n",
    "       percentile_cont(0.25) WITHIN GROUP (ORDER BY HR) AS p25,\n",
    "       percentile_cont(0.50) WITHIN GROUP (ORDER BY HR) AS median,\n",
    "       percentile_cont(0.75) WITHIN GROUP (ORDER BY HR) AS p75,\n",
    "       percentile_cont(0.99) WITHIN GROUP (ORDER BY HR) AS p99,\n",
    "       MAX(HR),\n",
    "       AVG(HR)\n",
    "  FROM batting\n",
    " LIMIT 10;"
   ]
  },
  {
   "cell_type": "markdown",
   "metadata": {
    "slideshow": {
     "slide_type": "subslide"
    }
   },
   "source": [
    "### Hypothetical-Set Window Functions\n",
    "- the position of a value in a distribution *even if the value wasn't in the data*\n",
    "- PostgreSQL: `rank`, `dense_rank`, `percent_rank` and `cume_dist`\n",
    "- Would I be in the top 0.1% if I hit `hrs` homeruns?"
   ]
  },
  {
   "cell_type": "code",
   "execution_count": null,
   "metadata": {
    "slideshow": {
     "slide_type": "fragment"
    }
   },
   "outputs": [],
   "source": [
    "hrs = 4"
   ]
  },
  {
   "cell_type": "code",
   "execution_count": null,
   "metadata": {
    "slideshow": {
     "slide_type": "fragment"
    }
   },
   "outputs": [],
   "source": [
    "%%sql\n",
    "SELECT :hrs as hypothetical,\n",
    "       rank(:hrs) WITHIN GROUP (ORDER BY HR DESC),\n",
    "       dense_rank(:hrs) WITHIN GROUP (ORDER BY HR DESC),\n",
    "       percent_rank(:hrs) WITHIN GROUP (ORDER BY HR DESC) * 100 AS pct_rank,\n",
    "       cume_dist(:hrs) WITHIN GROUP (ORDER BY HR)\n",
    "  FROM batting\n",
    " LIMIT 10;"
   ]
  },
  {
   "cell_type": "markdown",
   "metadata": {
    "slideshow": {
     "slide_type": "slide"
    }
   },
   "source": [
    "# 2. Changes in Granularity"
   ]
  },
  {
   "cell_type": "markdown",
   "metadata": {
    "slideshow": {
     "slide_type": "slide"
    }
   },
   "source": [
    "## Changes in Granularity: Overview\n",
    "Super common. Data is often recorded/released at different granularities.\n",
    "\n",
    "**Units**: Numerical data is *measured*! Usually in hierarchy of units: \n",
    "- sec->hours->minutes->days\n",
    "- mm->cm->m->km\n",
    "\n",
    "Sometimes need to translate across hierarchies\n",
    "- in->ft->mi\n",
    "\n",
    "**Discretization**: Granularity is inherent in the notion of measurement. \n",
    "- *the temperature is `68` degrees Fahrenheit.* \n",
    "- \"Rounded\" (*discretized*) from a continuous value in the physical world\n",
    "- Encoded as a fixed number of bits. \n",
    "- Result of both sensing devices and digitization."
   ]
  },
  {
   "cell_type": "markdown",
   "metadata": {
    "slideshow": {
     "slide_type": "slide"
    }
   },
   "source": [
    "## Explicit Hierarchies\n",
    "Many hierarchical *models* of the world.\n",
    "\n",
    "- Domain, Kingdom, Phylum, Class, Order, Family, Genus, Species. \n",
    "- City, County, State, Nation\n",
    "- {Cars, Trucks, Planes} -> Vehicles\n",
    "\n",
    "One standard encoding: `IsA` pairs\n",
    "- basically a child/parent pairs in a tree:\n",
    "\n",
    "| child | parent |\n",
    ":-------|:----------|\n",
    "| truck | vehicle |\n",
    "| car   | vehicle |\n",
    "| airplane | vehicle |\n",
    "| Gulfstream 650 | airplane|\n",
    "\n",
    "Also [semantic triples](https://en.wikipedia.org/wiki/Semantic_triple) a la [RDF]:\n",
    "\n",
    "| subject | predicate | object |\n",
    "| :------ | :-------- | :----- |\n",
    "| airplane  | IsA      | vehicle |\n",
    "| Gulfstream 650 | IsA | airplane |\n",
    "| Joe | ReportsTo | John |\n",
    "| John | ReportsTo | Tsu Jae |\n",
    "| Tsu Jae | ReportsTo | Carol |\n",
    "| Alvin | Teaches | Joe |\n",
    "| Joe | Teaches | Alvin |"
   ]
  },
  {
   "cell_type": "markdown",
   "metadata": {
    "slideshow": {
     "slide_type": "slide"
    }
   },
   "source": [
    "## A Note on Time (both kinds!)\n",
    "Data is rarely true across all of time.\n",
    "- Data should contain temporal attributes!\n",
    "\n",
    "There are typically two relevant times for a datum:\n",
    "- *Transaction Time*: the time a datum is recorded\n",
    "- *Valid Time*: the time range when the datum is considered to be true\n",
    "\n",
    "This is sometimes referred to as a *bitemporal* model for data.\n",
    "\n",
    "*All data* is bitemporal, not just physical phenomena. \n",
    "- \"Enrique is taking Data Engineering 101\"\n",
    "- \"Samy bought a goldfish on eBay\"\n",
    "\n",
    "- \"Transaction time\" a bit circumstantial\n",
    "- \"Valid time\" is very application-specific\n",
    "\n",
    "Hierarchies are common (msec < sec < min < hour < day < month < year < ...)\n",
    "- complicated by issues like timezones!"
   ]
  },
  {
   "cell_type": "markdown",
   "metadata": {
    "slideshow": {
     "slide_type": "slide"
    }
   },
   "source": [
    "## A Note on Space\n",
    "All physical phenomena also have a geolocation. \n",
    "\n",
    "- Can be encoded in many ways\n",
    "- (latitude, longitude)\n",
    "- place-name\n",
    "- postal code\n",
    "\n",
    "Explicit and often complex hierarchies of place-names/codes\n",
    "- often not strict hierarchies, have overlaps\n",
    "- because of politics!\n",
    "- e.g. congressional districts may span parts of counties"
   ]
  },
  {
   "cell_type": "markdown",
   "metadata": {
    "slideshow": {
     "slide_type": "subslide"
    }
   },
   "source": [
    "## Everything Exists in Space-Time\n",
    "- The four most common dimensions in data\n",
    "- Great unboxing tricks: maps and [rug plots](https://en.wikipedia.org/wiki/Rug_plot)!\n",
    "- Inherently multi-granularity\n",
    "    - Time subdivisions are periodic! (seasons, months, etc)\n",
    "\n",
    "You may need a special system!\n",
    "- GIS: Geographic Information Systems (e.g. [PostGIS](https://postgis.net))\n",
    "- Temporal Database: (e.g. [Timescale])(https://timescale.com)\n",
    "\n",
    "\n",
    "Generally: general-purpose databases and tools.\n",
    "\n",
    "But always keep space and time in mind."
   ]
  },
  {
   "cell_type": "markdown",
   "metadata": {
    "slideshow": {
     "slide_type": "slide"
    }
   },
   "source": [
    "## Granularity Transformations"
   ]
  },
  {
   "cell_type": "code",
   "execution_count": null,
   "metadata": {
    "slideshow": {
     "slide_type": "fragment"
    }
   },
   "outputs": [],
   "source": [
    "## we'll use the GNIS data in the following examples.\n",
    "## The file: https://geonames.usgs.gov/docs/stategaz/NationalFile.zip\n",
    "## The site: https://www.usgs.gov/core-science-systems/ngp/board-on-geographic-names/download-gnis-data\n",
    "## replace the database connection with a database of your own!\n",
    "%reload_ext sql\n",
    "%sql postgresql://jmh@127.0.0.1:5432/gnis"
   ]
  },
  {
   "cell_type": "code",
   "execution_count": null,
   "metadata": {
    "slideshow": {
     "slide_type": "fragment"
    }
   },
   "outputs": [],
   "source": [
    "%sql \\d national"
   ]
  },
  {
   "cell_type": "code",
   "execution_count": null,
   "metadata": {
    "slideshow": {
     "slide_type": "subslide"
    }
   },
   "outputs": [],
   "source": [
    "%sql SELECT * FROM national LIMIT 2;"
   ]
  },
  {
   "cell_type": "markdown",
   "metadata": {
    "slideshow": {
     "slide_type": "subslide"
    }
   },
   "source": [
    "### Quantization: Numerical Granularity\n",
    "Simplest form: the number of \"significant digits\"\n",
    "- Typically manipulate via arithmetic\n",
    "- Or powers-of-10 via string prefixes:"
   ]
  },
  {
   "cell_type": "code",
   "execution_count": null,
   "metadata": {
    "slideshow": {
     "slide_type": "fragment"
    }
   },
   "outputs": [],
   "source": [
    "%%sql\n",
    "SELECT elevation_meters, \n",
    "       (elevation_meters / 100) :: integer AS quantized,\n",
    "       ((elevation_meters / 100) :: integer) * 100 AS round_to_100,\n",
    "       substring(elevation_meters :: text, 1, 2),\n",
    "       concat(substring(elevation_meters :: text, 1, 2), '00') AS substring2\n",
    "  FROM national\n",
    " LIMIT 5;"
   ]
  },
  {
   "cell_type": "markdown",
   "metadata": {
    "slideshow": {
     "slide_type": "subslide"
    }
   },
   "source": [
    "The above is powers of 10.\n",
    "- Can also quantize $n$-bit numbers to fewer bits. \n",
    "    - Common in Deep Learning pipelines. \n",
    "\n",
    "Each bit position is a power of two. \n",
    "- Shifting $b$ bits right (`>> b`) divides by $2^b$, drops bits. \n",
    "- Shifting $b$ bits left (`<< n`) multiplies by $2^b$. \n",
    "- Shifting right-then-left by $b$\n",
    "    - Keep only the leading $n-b$ bits\n",
    "    - Pad the right with 0"
   ]
  },
  {
   "cell_type": "code",
   "execution_count": null,
   "metadata": {
    "slideshow": {
     "slide_type": "subslide"
    }
   },
   "outputs": [],
   "source": [
    "%%sql\n",
    "SELECT elevation_meters, \n",
    "       (elevation_meters::integer::bit(12)) AS bit12, \n",
    "       (elevation_meters::integer::bit(12) >> 3) AS rightshifted, \n",
    "       ((elevation_meters::integer::bit(12) >> 3) << 3) AS rightleftshifted,\n",
    "       ((elevation_meters::integer::bit(12) >> 3) << 3)::integer AS round_down_8\n",
    "  FROM national\n",
    " LIMIT 5;"
   ]
  },
  {
   "cell_type": "markdown",
   "metadata": {
    "slideshow": {
     "slide_type": "fragment"
    }
   },
   "source": [
    "\n",
    "   - right-then-left shift rounds down to the nearest multiple of $2^b$!"
   ]
  },
  {
   "cell_type": "markdown",
   "metadata": {
    "slideshow": {
     "slide_type": "subslide"
    }
   },
   "source": [
    "## Quantization and Domain Size\n",
    "Quantizing to fewer bits means fewer distinct values\n",
    "- akin to assigning \"bin\" numbers \n",
    "\n",
    "Take our 12-bit numbers and quantize down to the leading 4 bits.\n",
    "- How many distinct values do you expect?"
   ]
  },
  {
   "cell_type": "code",
   "execution_count": null,
   "metadata": {
    "slideshow": {
     "slide_type": "subslide"
    }
   },
   "outputs": [],
   "source": [
    "%%sql\n",
    "EXPLAIN (verbose)\n",
    "WITH shifts AS (\n",
    "SELECT elevation_meters, \n",
    "       (elevation_meters::integer::bit(12)) AS bit12, \n",
    "       (elevation_meters::integer::bit(12) >> 8) AS rightshifted, \n",
    "       ((elevation_meters::integer::bit(12) >> 8) << 8)::integer AS round_to_256,\n",
    "       ((elevation_meters::integer::bit(12) >> 8) << 8)::integer % 256 AS test\n",
    "  FROM national\n",
    ")\n",
    "SELECT COUNT(DISTINCT elevation_meters) AS elevation_meters_cnt,\n",
    "       COUNT(DISTINCT bit12) AS bit12_cnt,\n",
    "       COUNT(DISTINCT rightshifted) AS rightshift_cnt,\n",
    "       COUNT(DISTINCT round_to_256) AS rounded_cnt\n",
    "  FROM shifts;"
   ]
  },
  {
   "cell_type": "markdown",
   "metadata": {
    "slideshow": {
     "slide_type": "subslide"
    }
   },
   "source": [
    "### Rollup/Drill-Down Aggregation\n",
    "\"Roll up\" = transform to be *coarser* grain.\n",
    "\"Drill down\" = transform to be *finer* grain\n",
    "\n",
    "Essentially GROUP BY/Aggregation with different groups.\n",
    "- In the R community this pattern is called  *Split-Apply-Combine*.\n"
   ]
  },
  {
   "cell_type": "markdown",
   "metadata": {
    "slideshow": {
     "slide_type": "subslide"
    }
   },
   "source": [
    "Let's start with county-level data on elevations"
   ]
  },
  {
   "cell_type": "code",
   "execution_count": null,
   "metadata": {
    "slideshow": {
     "slide_type": "fragment"
    }
   },
   "outputs": [],
   "source": [
    "%%sql\n",
    "SELECT state_numeric, county_numeric, avg(elevation_meters), stddev(elevation_meters), count(*)\n",
    "  FROM national TABLESAMPLE BERNOULLI(10)\n",
    " GROUP BY state_numeric, county_numeric;"
   ]
  },
  {
   "cell_type": "markdown",
   "metadata": {
    "slideshow": {
     "slide_type": "subslide"
    }
   },
   "source": [
    "Now let's roll up to state level. \n",
    "- Watch the GROUP BY clause. \n",
    "- More or fewer columns? \n",
    "- Can we choose any columns we want?"
   ]
  },
  {
   "cell_type": "code",
   "execution_count": null,
   "metadata": {
    "slideshow": {
     "slide_type": "fragment"
    }
   },
   "outputs": [],
   "source": [
    "%%sql\n",
    "CREATE OR REPLACE VIEW state_elevations AS\n",
    "SELECT state_numeric, avg(elevation_meters) AS avg, stddev(elevation_meters) AS stddev, count(*) AS cnt\n",
    "  FROM national TABLESAMPLE Bernoulli(10)\n",
    " GROUP BY state_numeric;\n",
    "\n",
    "SELECT * FROM state_elevations;"
   ]
  },
  {
   "cell_type": "markdown",
   "metadata": {
    "slideshow": {
     "slide_type": "subslide"
    }
   },
   "source": [
    "Now let's drill down from `state_numeric` into `feature_class` as well:"
   ]
  },
  {
   "cell_type": "code",
   "execution_count": null,
   "metadata": {
    "slideshow": {
     "slide_type": "fragment"
    }
   },
   "outputs": [],
   "source": [
    "%%sql\n",
    "SELECT state_numeric, feature_class, avg(elevation_meters) AS avg, stddev(elevation_meters) AS stddev, count(*) AS cnt\n",
    "  FROM national TABLESAMPLE Bernoulli(10)\n",
    " GROUP BY state_numeric, feature_class\n",
    " ORDER BY count(*) DESC;"
   ]
  },
  {
   "cell_type": "markdown",
   "metadata": {
    "slideshow": {
     "slide_type": "subslide"
    }
   },
   "source": [
    "And roll up again to just `feature_class`!"
   ]
  },
  {
   "cell_type": "code",
   "execution_count": null,
   "metadata": {
    "slideshow": {
     "slide_type": "fragment"
    }
   },
   "outputs": [],
   "source": [
    "%%sql\n",
    "SELECT feature_class, avg(elevation_meters) AS avg, stddev(elevation_meters) AS stddev, count(*) AS cnt\n",
    "  FROM national TABLESAMPLE Bernoulli(10)\n",
    " GROUP BY feature_class\n",
    " ORDER BY count(*) DESC\n",
    " LIMIT 10;"
   ]
  },
  {
   "cell_type": "markdown",
   "metadata": {
    "slideshow": {
     "slide_type": "subslide"
    }
   },
   "source": [
    "And drill down into `state_numeric` and `county_numeric`!"
   ]
  },
  {
   "cell_type": "code",
   "execution_count": null,
   "metadata": {
    "slideshow": {
     "slide_type": "fragment"
    }
   },
   "outputs": [],
   "source": [
    "%%sql\n",
    "SELECT state_numeric, county_numeric, feature_class, count(*), avg(elevation_meters)\n",
    "  FROM national TABLESAMPLE Bernoulli(10)\n",
    " GROUP BY state_numeric, county_numeric, feature_class\n",
    " ORDER BY count(*) DESC\n",
    "LIMIT 10;"
   ]
  },
  {
   "cell_type": "markdown",
   "metadata": {
    "slideshow": {
     "slide_type": "fragment"
    }
   },
   "source": [
    "- Is there a key in the schema of the output? Why (not)?\n",
    "- What would this mean for PIVOTing?"
   ]
  },
  {
   "cell_type": "markdown",
   "metadata": {
    "slideshow": {
     "slide_type": "subslide"
    }
   },
   "source": [
    "### Rollup/Drilldown & Tensors\n",
    "Consider a GROUP BY query with 3 grouping columns and 1 aggregate column:\n",
    "```\n",
    "SELECT state_numeric, county_numeric, \n",
    "       feature_class, count(*)\n",
    "  FROM national\n",
    " GROUP BY state_numeric, county_numeric, feature_class;\n",
    "```\n",
    "*This returns a (sparse) 3-dimensional tensor!*"
   ]
  },
  {
   "cell_type": "markdown",
   "metadata": {
    "slideshow": {
     "slide_type": "subslide"
    }
   },
   "source": [
    "### Connection to Statistics\n",
    "- GROUP BY / `count(*)` queries are *empirical probability distributions!*\n",
    "  - (Well, if you normalize by the overall count.)\n",
    "  - (Do it in SQL!)"
   ]
  },
  {
   "cell_type": "markdown",
   "metadata": {
    "slideshow": {
     "slide_type": "fragment"
    }
   },
   "source": [
    "- Roll-up (fewer grouping columns) on these queries is *marginalization* \n",
    "  - I.e. computing the [*marginal* distribution](https://en.wikipedia.org/wiki/Marginal_distribution) \n",
    "  - Sums the probabilities across a subset of dimensions\n",
    "- Roll-up is the natural generalization to other aggregation functions\n",
    "- We will revisit this when we talk about Data Cubes."
   ]
  },
  {
   "cell_type": "markdown",
   "metadata": {
    "slideshow": {
     "slide_type": "subslide"
    }
   },
   "source": [
    "### Drill-Down via Modeling\n",
    "What if we don't actually have the drill-down data\n",
    "- Maybe we have a statistical model of it! \n",
    "- We can sample from the model. \n",
    "- Be clear with your \"users\" that this is simulated data!\n",
    "\n",
    "E.g. a Gaussian (Normal) distribution:"
   ]
  },
  {
   "cell_type": "code",
   "execution_count": null,
   "metadata": {
    "slideshow": {
     "slide_type": "fragment"
    }
   },
   "outputs": [],
   "source": [
    "%%sql\n",
    "SELECT * from normal_rand(10, 0, 1);"
   ]
  },
  {
   "cell_type": "markdown",
   "metadata": {
    "slideshow": {
     "slide_type": "subslide"
    }
   },
   "source": [
    "We can join against this to generate normally-distributed elevations!\n",
    "- This is a table-valued function! \n",
    "- We \"call\" a table-valued function with a [LATERAL JOIN](https://www.postgresql.org/docs/current/queries-table-expressions.html)\n",
    "- Essentially forces a join order"
   ]
  },
  {
   "cell_type": "code",
   "execution_count": null,
   "metadata": {
    "slideshow": {
     "slide_type": "fragment"
    }
   },
   "outputs": [],
   "source": [
    "%%sql\n",
    "WITH state_cty AS\n",
    "(SELECT s.state_numeric, f.fips as county_numeric, s.avg, s.stddev, s.cnt\n",
    "  FROM state_elevations s, fips_counties f\n",
    "  WHERE s.state_numeric = f.state_numeric\n",
    ")\n",
    "SELECT s.*, n.n AS elevation_meters, true as elevation_meters_simulated\n",
    "  FROM state_cty s\n",
    "       LATERAL normal_rand(s.cnt::integer, s.avg, s.stddev) AS n\n",
    "LIMIT 10;"
   ]
  },
  {
   "cell_type": "markdown",
   "metadata": {
    "slideshow": {
     "slide_type": "subslide"
    }
   },
   "source": [
    "## Assembling and Joining to an Explicit Hierarchy\n",
    "Let's return to the Baseball database. In baseball we have an explicit hierarchy:\n",
    "- Players play for Teams\n",
    "- Teams are in Divisions\n",
    "- Divisions are in Leagues\n",
    "If we want to do rollups and drilldowns on this hiearchy, we need data that looks like:\n",
    "```\n",
    "(playerid, teamid, divisionid, leagueid, yearid, thing_we_want_to_aggregate)\n",
    "```\n",
    "We will have to transform our data to get it into this structure!"
   ]
  },
  {
   "cell_type": "code",
   "execution_count": null,
   "metadata": {},
   "outputs": [],
   "source": [
    "## we'll use the Lahman baseball database in our initial examples today.\n",
    "## replace the database connection with a database of your own!\n",
    "%reload_ext sql\n",
    "%sql postgresql://jmh@127.0.0.1:5432/baseball"
   ]
  },
  {
   "cell_type": "code",
   "execution_count": null,
   "metadata": {
    "slideshow": {
     "slide_type": "fragment"
    }
   },
   "outputs": [],
   "source": [
    "%%sql\n",
    "select * from appearances where yearid > 1970 limit 2;"
   ]
  },
  {
   "cell_type": "code",
   "execution_count": null,
   "metadata": {
    "slideshow": {
     "slide_type": "fragment"
    }
   },
   "outputs": [],
   "source": [
    "%%sql\n",
    "select * from teams limit 1;"
   ]
  },
  {
   "cell_type": "code",
   "execution_count": null,
   "metadata": {
    "slideshow": {
     "slide_type": "subslide"
    }
   },
   "outputs": [],
   "source": [
    "%%sql\n",
    "select a.playerid, a.teamid, t.divid, a.*\n",
    "  from appearances a NATURAL JOIN teams t\n",
    " where a.yearid = 2015\n",
    " limit 100;"
   ]
  },
  {
   "cell_type": "markdown",
   "metadata": {
    "slideshow": {
     "slide_type": "subslide"
    }
   },
   "source": [
    "This hierarchy is an example of views we can use!"
   ]
  },
  {
   "cell_type": "code",
   "execution_count": null,
   "metadata": {
    "slideshow": {
     "slide_type": "fragment"
    }
   },
   "outputs": [],
   "source": [
    "%%sql\n",
    "CREATE OR REPLACE VIEW bball_tree AS\n",
    "SELECT DISTINCT a.playerid, a.teamid, t.divid, a.lgid, a.yearid\n",
    "  FROM appearances a NATURAL JOIN teams t;"
   ]
  },
  {
   "cell_type": "markdown",
   "metadata": {
    "slideshow": {
     "slide_type": "subslide"
    }
   },
   "source": [
    "Now if we want to rollup and drill-down home run statistics on this hierarchy, we can do it! Remember our old homerun query?"
   ]
  },
  {
   "cell_type": "code",
   "execution_count": null,
   "metadata": {
    "slideshow": {
     "slide_type": "fragment"
    }
   },
   "outputs": [],
   "source": [
    "%%sql\n",
    "SELECT namefirst, namelast, min(hr), max(hr), avg(hr), stddev(hr), sum(hr)\n",
    "  FROM batting b, master m\n",
    " WHERE b.playerid = m.playerid\n",
    " GROUP BY namelast, namefirst\n",
    " ORDER BY max desc\n",
    " LIMIT 10;"
   ]
  },
  {
   "cell_type": "markdown",
   "metadata": {
    "slideshow": {
     "slide_type": "subslide"
    }
   },
   "source": [
    "Let's set it up for rollup/drilldown on the bball_tree hierarchy! To do this, we join each raw master (person) record with the associated bball_tree by `(playerid, yearid)` in a CTE, and use the result for rollup/drilldown."
   ]
  },
  {
   "cell_type": "code",
   "execution_count": null,
   "metadata": {
    "slideshow": {
     "slide_type": "fragment"
    }
   },
   "outputs": [],
   "source": [
    "%%sql\n",
    "WITH batting_tree AS\n",
    "(\n",
    "    SELECT b.*, t.divid\n",
    "    FROM batting b, bball_tree as t\n",
    "    WHERE b.playerid = t.playerid\n",
    "      AND b.yearid = t.yearid \n",
    ")\n",
    "SELECT b.playerid, b.teamid, b.lgid, b.divid, b.yearid, namelast, namefirst,\n",
    "       namefirst, namelast, min(hr), max(hr), avg(hr), stddev(hr), sum(hr)\n",
    "FROM batting_tree b, master m\n",
    "WHERE b.playerid = m.playerid\n",
    "GROUP BY b.playerid, b.teamid, b.lgid, b.divid, b.yearid, namelast, namefirst\n",
    "ORDER BY max(hr) DESC\n",
    "limit 10;\n"
   ]
  },
  {
   "cell_type": "markdown",
   "metadata": {
    "slideshow": {
     "slide_type": "subslide"
    }
   },
   "source": [
    "### Walking a Hierarchy of Arbitrary Depth\n",
    "Let's look at a table with a complex hierarchy: the taxonomic hierarchy of biology from US [National Center for Biotechnology Information](https://www.ncbi.nlm.nih.gov/)."
   ]
  },
  {
   "cell_type": "code",
   "execution_count": null,
   "metadata": {
    "slideshow": {
     "slide_type": "fragment"
    }
   },
   "outputs": [],
   "source": [
    "## we'll use the NCBI taxonomy data in remaining examples.\n",
    "## The file: https://ftp.ncbi.nlm.nih.gov/pub/taxonomy/new_taxdump/new_taxdump.tar.Z\n",
    "## The site: https://www.ncbi.nlm.nih.gov/books/NBK53758/\n",
    "## Munge the nodes.dmp file with:\n",
    "## cat nodes.dmp | tr '\\t'  , | sed s/\\,\\|\\,/\\,/g | sed s/\\|//g  > nodes_clean.dmp\n",
    "## load with %copy nodes from 'nodes_clean.dmp' with csv delimiter ',';\n",
    "## %alter table nodes add primary key (tax_id);\n",
    "## Munge the names.dmp file with:\n",
    "## cat names.dmp | tr '\\t'  '|' | sed s/\\|\\|\\|/\\\"\\|\\\"/g | sed s/^/\\\"/ | sed s/\\|\\|$/\\\"/ > names_clean.dmp\n",
    "## load with %copy names from '/Users/jmh/Downloads/new_taxdump/names_clean.dmp' with csv delimiter '|';\n",
    "## %create index tax_id_ix on names(tax_id);\n",
    "## replace the database connection with a database of your own!\n",
    "%reload_ext sql\n",
    "%sql postgresql://jmh@127.0.0.1:5432/taxdump"
   ]
  },
  {
   "cell_type": "code",
   "execution_count": null,
   "metadata": {
    "slideshow": {
     "slide_type": "subslide"
    }
   },
   "outputs": [],
   "source": [
    "%%sql\n",
    "SELECT *\n",
    "  FROM nodes\n",
    " ORDER BY tax_id\n",
    " LIMIT 5;"
   ]
  },
  {
   "cell_type": "code",
   "execution_count": null,
   "metadata": {
    "slideshow": {
     "slide_type": "fragment"
    }
   },
   "outputs": [],
   "source": [
    "%%sql\n",
    "SELECT *\n",
    "  FROM names\n",
    " ORDER BY tax_id\n",
    " LIMIT 5;"
   ]
  },
  {
   "cell_type": "code",
   "execution_count": null,
   "metadata": {
    "slideshow": {
     "slide_type": "subslide"
    }
   },
   "outputs": [],
   "source": [
    "%%sql\n",
    "SELECT name_txt, nodes.* \n",
    "  FROM nodes NATURAL JOIN names\n",
    " WHERE name_txt = 'Animalia';"
   ]
  },
  {
   "cell_type": "markdown",
   "metadata": {
    "slideshow": {
     "slide_type": "subslide"
    }
   },
   "source": [
    "To Drill down below *Animalia*, we can use a *self-join* on nodes!"
   ]
  },
  {
   "cell_type": "code",
   "execution_count": null,
   "metadata": {
    "slideshow": {
     "slide_type": "fragment"
    }
   },
   "outputs": [],
   "source": [
    "%%sql\n",
    "SELECT parent.tax_id, parent.rank, child.tax_id, child.rank\n",
    "  FROM nodes parent, nodes child\n",
    " WHERE child.parent = parent.tax_id\n",
    "   AND parent.tax_id = 6073;"
   ]
  },
  {
   "cell_type": "markdown",
   "metadata": {
    "slideshow": {
     "slide_type": "subslide"
    }
   },
   "source": [
    "Now let's get the names of these nodes!"
   ]
  },
  {
   "cell_type": "code",
   "execution_count": null,
   "metadata": {
    "slideshow": {
     "slide_type": "fragment"
    }
   },
   "outputs": [],
   "source": [
    "%%sql\n",
    "WITH edges AS (\n",
    "    SELECT parent.tax_id AS pid, parent.rank as prank,\n",
    "           child.tax_id AS cid, child.rank as crank\n",
    "      FROM nodes parent, nodes child\n",
    "     WHERE child.parent = parent.tax_id\n",
    ")\n",
    "SELECT pid, prank, parent.name_txt as ptext, cid, crank, child.name_txt as ctext\n",
    "  FROM names parent, names child, edges\n",
    " WHERE parent.tax_id = edges.pid\n",
    "   AND child.tax_id = edges.cid\n",
    "   AND parent.tax_id = 33208\n",
    " LIMIT 10;"
   ]
  },
  {
   "cell_type": "markdown",
   "metadata": {
    "slideshow": {
     "slide_type": "fragment"
    }
   },
   "source": [
    "Argh! Synonyms! There are many names for the same `tax_id`! Let's aggregate them up into unique `(pid, cid)` rows."
   ]
  },
  {
   "cell_type": "code",
   "execution_count": null,
   "metadata": {
    "slideshow": {
     "slide_type": "subslide"
    }
   },
   "outputs": [],
   "source": [
    "%%sql\n",
    "WITH edges AS (\n",
    "    SELECT parent.tax_id AS pid, parent.rank as prank,\n",
    "           child.tax_id AS cid, child.rank as crank\n",
    "      FROM nodes parent, nodes child\n",
    "     WHERE child.parent = parent.tax_id\n",
    ")\n",
    "SELECT pid, edges.prank, json_agg(parent.name_txt), cid, edges.crank, json_agg(child.name_txt)\n",
    "  FROM names parent, names child, edges\n",
    " WHERE parent.tax_id = edges.pid\n",
    "   AND child.tax_id = edges.cid\n",
    "   AND parent.tax_id = 33208\n",
    " GROUP BY pid, edges.prank, cid, edges.crank;"
   ]
  },
  {
   "cell_type": "markdown",
   "metadata": {
    "slideshow": {
     "slide_type": "subslide"
    }
   },
   "source": [
    "Now we can drill down 2 levels of the hierarchy. What about three levels?"
   ]
  },
  {
   "cell_type": "code",
   "execution_count": null,
   "metadata": {
    "slideshow": {
     "slide_type": "fragment"
    }
   },
   "outputs": [],
   "source": [
    "%%sql\n",
    "WITH double_edges AS (\n",
    "    SELECT grandparent.tax_id AS gid, grandparent.rank as grank, \n",
    "           parent.tax_id AS pid, parent.rank as prank,\n",
    "           child.tax_id AS cid, child.rank as crank\n",
    "      FROM nodes grandparent, nodes parent, nodes child\n",
    "     WHERE child.parent = parent.tax_id\n",
    "       AND parent.parent = grandparent.tax_id\n",
    ")\n",
    "SELECT gid, grank, json_agg(grandparent.name_txt), \n",
    "       pid, prank, json_agg(parent.name_txt), \n",
    "       cid, crank, json_agg(child.name_txt)\n",
    "  FROM names grandparent, names parent, names child, double_edges de\n",
    " WHERE parent.tax_id = de.pid\n",
    "   AND child.tax_id = de.cid\n",
    "   AND grandparent.tax_id = de.gid\n",
    "   AND grandparent.tax_id = 33208\n",
    " GROUP BY gid, grank, pid, prank, cid, crank;"
   ]
  },
  {
   "cell_type": "markdown",
   "metadata": {
    "slideshow": {
     "slide_type": "subslide"
    }
   },
   "source": [
    "You can keep going deeper! \n",
    "- But it gets tedious in SQL. Why?"
   ]
  },
  {
   "cell_type": "markdown",
   "metadata": {
    "slideshow": {
     "slide_type": "slide"
    }
   },
   "source": [
    "# Summing Up!"
   ]
  },
  {
   "cell_type": "markdown",
   "metadata": {
    "slideshow": {
     "slide_type": "subslide"
    }
   },
   "source": [
    "#### Numerical Functions\n",
    "Know when to use what kind of function! And how they are interleaved with relational constructs like project, select, GROUP BY, join, etc.\n",
    "\n",
    "- Scalar functions\n",
    "  - built-in\n",
    "  - [UDFs](https://www.postgresql.org/docs/current/xfunc.html)\n",
    "- Aggregate functions\n",
    "  - [built-in](https://www.postgresql.org/docs/current/functions-aggregate.html)\n",
    "  - [UDAs](https://www.postgresql.org/docs/current/xaggr.html)\n",
    "- [Window functions]()\n",
    "  - basic aggs and order-based aggs\n",
    "  - inverse-distribution\n",
    "  - hypothetical-set\n",
    " - [Postgres Docs](https://www.postgresql.org/docs/current/functions.html)"
   ]
  },
  {
   "cell_type": "markdown",
   "metadata": {
    "slideshow": {
     "slide_type": "subslide"
    }
   },
   "source": [
    "#### Granularity Transformation\n",
    "Understand why data comes in different granularities, and how to transform data to a desired granularity.\n",
    "- Features of spatial data and political boundaries\n",
    "- Bitemporal data\n",
    "- Quantization: numerical transformation by powers of 10, 2, etc.\n",
    "  - reduces the number of distinct values correspondingly\n",
    "- Rollup/Drilldown constructs\n",
    "  - more GROUP BY columns = drilldown\n",
    "  - fewer GROUP BY columns = rollup\n",
    "- Relational / Tensor connections\n",
    "  - GROUP BY creates a tensor\n",
    "  - Rollup is akin to Marginalization\n",
    "- Explicit Hierarchies\n",
    "  - Create a hierarchy table you can rollup/drilldown\n",
    "  - Join your data to that table!"
   ]
  },
  {
   "cell_type": "code",
   "execution_count": null,
   "metadata": {},
   "outputs": [],
   "source": []
  }
 ],
 "metadata": {
  "celltoolbar": "Slideshow",
  "kernelspec": {
   "display_name": "Python 3",
   "language": "python",
   "name": "python3"
  },
  "language_info": {
   "codemirror_mode": {
    "name": "ipython",
    "version": 3
   },
   "file_extension": ".py",
   "mimetype": "text/x-python",
   "name": "python",
   "nbconvert_exporter": "python",
   "pygments_lexer": "ipython3",
   "version": "3.8.5"
  }
 },
 "nbformat": 4,
 "nbformat_minor": 4
}
